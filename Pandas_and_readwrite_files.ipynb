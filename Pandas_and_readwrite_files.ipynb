{
 "cells": [
  {
   "cell_type": "code",
   "execution_count": 2,
   "metadata": {
    "collapsed": false
   },
   "outputs": [],
   "source": [
    "import pandas as pd"
   ]
  },
  {
   "cell_type": "markdown",
   "metadata": {},
   "source": [
    "### Reading from a csv"
   ]
  },
  {
   "cell_type": "code",
   "execution_count": 6,
   "metadata": {
    "collapsed": false
   },
   "outputs": [],
   "source": [
    "df=pd.read_csv('demo.csv')"
   ]
  },
  {
   "cell_type": "code",
   "execution_count": 7,
   "metadata": {
    "collapsed": false
   },
   "outputs": [
    {
     "data": {
      "text/html": [
       "<div>\n",
       "<table border=\"1\" class=\"dataframe\">\n",
       "  <thead>\n",
       "    <tr style=\"text-align: right;\">\n",
       "      <th></th>\n",
       "      <th>ID</th>\n",
       "      <th>Name</th>\n",
       "      <th>Age</th>\n",
       "      <th>Gender</th>\n",
       "      <th>Height</th>\n",
       "      <th>Weight</th>\n",
       "      <th>Income</th>\n",
       "    </tr>\n",
       "  </thead>\n",
       "  <tbody>\n",
       "    <tr>\n",
       "      <th>0</th>\n",
       "      <td>1</td>\n",
       "      <td>A</td>\n",
       "      <td>37</td>\n",
       "      <td>M</td>\n",
       "      <td>172</td>\n",
       "      <td>72</td>\n",
       "      <td>38960</td>\n",
       "    </tr>\n",
       "    <tr>\n",
       "      <th>1</th>\n",
       "      <td>2</td>\n",
       "      <td>B</td>\n",
       "      <td>29</td>\n",
       "      <td>F</td>\n",
       "      <td>172</td>\n",
       "      <td>79</td>\n",
       "      <td>74863</td>\n",
       "    </tr>\n",
       "    <tr>\n",
       "      <th>2</th>\n",
       "      <td>3</td>\n",
       "      <td>C</td>\n",
       "      <td>41</td>\n",
       "      <td>M</td>\n",
       "      <td>166</td>\n",
       "      <td>67</td>\n",
       "      <td>77256</td>\n",
       "    </tr>\n",
       "    <tr>\n",
       "      <th>3</th>\n",
       "      <td>4</td>\n",
       "      <td>D</td>\n",
       "      <td>29</td>\n",
       "      <td>F</td>\n",
       "      <td>158</td>\n",
       "      <td>61</td>\n",
       "      <td>84022</td>\n",
       "    </tr>\n",
       "    <tr>\n",
       "      <th>4</th>\n",
       "      <td>5</td>\n",
       "      <td>E</td>\n",
       "      <td>34</td>\n",
       "      <td>M</td>\n",
       "      <td>177</td>\n",
       "      <td>70</td>\n",
       "      <td>41907</td>\n",
       "    </tr>\n",
       "  </tbody>\n",
       "</table>\n",
       "</div>"
      ],
      "text/plain": [
       "   ID Name  Age Gender  Height  Weight  Income\n",
       "0   1    A   37      M     172      72   38960\n",
       "1   2    B   29      F     172      79   74863\n",
       "2   3    C   41      M     166      67   77256\n",
       "3   4    D   29      F     158      61   84022\n",
       "4   5    E   34      M     177      70   41907"
      ]
     },
     "execution_count": 7,
     "metadata": {},
     "output_type": "execute_result"
    }
   ],
   "source": [
    "df.head()"
   ]
  },
  {
   "cell_type": "markdown",
   "metadata": {},
   "source": [
    "# Subsetting,slicing\n",
    "\n",
    "How to subset a dataframe by giving a condition\n",
    "\n",
    "Syntax for subsetting a dataframe based on a condition is :- df[ condition ]"
   ]
  },
  {
   "cell_type": "code",
   "execution_count": 9,
   "metadata": {
    "collapsed": false
   },
   "outputs": [
    {
     "data": {
      "text/html": [
       "<div>\n",
       "<table border=\"1\" class=\"dataframe\">\n",
       "  <thead>\n",
       "    <tr style=\"text-align: right;\">\n",
       "      <th></th>\n",
       "      <th>ID</th>\n",
       "      <th>Name</th>\n",
       "      <th>Age</th>\n",
       "      <th>Gender</th>\n",
       "      <th>Height</th>\n",
       "      <th>Weight</th>\n",
       "      <th>Income</th>\n",
       "    </tr>\n",
       "  </thead>\n",
       "  <tbody>\n",
       "    <tr>\n",
       "      <th>0</th>\n",
       "      <td>1</td>\n",
       "      <td>A</td>\n",
       "      <td>37</td>\n",
       "      <td>M</td>\n",
       "      <td>172</td>\n",
       "      <td>72</td>\n",
       "      <td>38960</td>\n",
       "    </tr>\n",
       "    <tr>\n",
       "      <th>2</th>\n",
       "      <td>3</td>\n",
       "      <td>C</td>\n",
       "      <td>41</td>\n",
       "      <td>M</td>\n",
       "      <td>166</td>\n",
       "      <td>67</td>\n",
       "      <td>77256</td>\n",
       "    </tr>\n",
       "    <tr>\n",
       "      <th>4</th>\n",
       "      <td>5</td>\n",
       "      <td>E</td>\n",
       "      <td>34</td>\n",
       "      <td>M</td>\n",
       "      <td>177</td>\n",
       "      <td>70</td>\n",
       "      <td>41907</td>\n",
       "    </tr>\n",
       "    <tr>\n",
       "      <th>5</th>\n",
       "      <td>6</td>\n",
       "      <td>F</td>\n",
       "      <td>34</td>\n",
       "      <td>F</td>\n",
       "      <td>158</td>\n",
       "      <td>79</td>\n",
       "      <td>86198</td>\n",
       "    </tr>\n",
       "    <tr>\n",
       "      <th>7</th>\n",
       "      <td>8</td>\n",
       "      <td>H</td>\n",
       "      <td>41</td>\n",
       "      <td>F</td>\n",
       "      <td>165</td>\n",
       "      <td>75</td>\n",
       "      <td>48630</td>\n",
       "    </tr>\n",
       "    <tr>\n",
       "      <th>9</th>\n",
       "      <td>10</td>\n",
       "      <td>J</td>\n",
       "      <td>45</td>\n",
       "      <td>F</td>\n",
       "      <td>178</td>\n",
       "      <td>55</td>\n",
       "      <td>19021</td>\n",
       "    </tr>\n",
       "  </tbody>\n",
       "</table>\n",
       "</div>"
      ],
      "text/plain": [
       "   ID Name  Age Gender  Height  Weight  Income\n",
       "0   1    A   37      M     172      72   38960\n",
       "2   3    C   41      M     166      67   77256\n",
       "4   5    E   34      M     177      70   41907\n",
       "5   6    F   34      F     158      79   86198\n",
       "7   8    H   41      F     165      75   48630\n",
       "9  10    J   45      F     178      55   19021"
      ]
     },
     "execution_count": 9,
     "metadata": {},
     "output_type": "execute_result"
    }
   ],
   "source": [
    "df[df.Age>=30]"
   ]
  },
  {
   "cell_type": "markdown",
   "metadata": {},
   "source": [
    "The condition returns a boolean variable. So df[condition] returns all the rows from dataframe where the condition is true"
   ]
  },
  {
   "cell_type": "code",
   "execution_count": 10,
   "metadata": {
    "collapsed": false
   },
   "outputs": [
    {
     "data": {
      "text/plain": [
       "0     True\n",
       "1    False\n",
       "2     True\n",
       "3    False\n",
       "4     True\n",
       "5     True\n",
       "6    False\n",
       "7     True\n",
       "8    False\n",
       "9     True\n",
       "Name: Age, dtype: bool"
      ]
     },
     "execution_count": 10,
     "metadata": {},
     "output_type": "execute_result"
    }
   ],
   "source": [
    "df.Age>=30"
   ]
  },
  {
   "cell_type": "markdown",
   "metadata": {},
   "source": [
    "### We can give multiple conditions while subsetting with each condition separated by either '&' or '|'.\n",
    "##### Here '&' is logical AND and '|' is logical OR"
   ]
  },
  {
   "cell_type": "code",
   "execution_count": 14,
   "metadata": {
    "collapsed": false
   },
   "outputs": [
    {
     "data": {
      "text/html": [
       "<div>\n",
       "<table border=\"1\" class=\"dataframe\">\n",
       "  <thead>\n",
       "    <tr style=\"text-align: right;\">\n",
       "      <th></th>\n",
       "      <th>ID</th>\n",
       "      <th>Name</th>\n",
       "      <th>Age</th>\n",
       "      <th>Gender</th>\n",
       "      <th>Height</th>\n",
       "      <th>Weight</th>\n",
       "      <th>Income</th>\n",
       "    </tr>\n",
       "  </thead>\n",
       "  <tbody>\n",
       "    <tr>\n",
       "      <th>0</th>\n",
       "      <td>1</td>\n",
       "      <td>A</td>\n",
       "      <td>37</td>\n",
       "      <td>M</td>\n",
       "      <td>172</td>\n",
       "      <td>72</td>\n",
       "      <td>38960</td>\n",
       "    </tr>\n",
       "    <tr>\n",
       "      <th>4</th>\n",
       "      <td>5</td>\n",
       "      <td>E</td>\n",
       "      <td>34</td>\n",
       "      <td>M</td>\n",
       "      <td>177</td>\n",
       "      <td>70</td>\n",
       "      <td>41907</td>\n",
       "    </tr>\n",
       "    <tr>\n",
       "      <th>9</th>\n",
       "      <td>10</td>\n",
       "      <td>J</td>\n",
       "      <td>45</td>\n",
       "      <td>F</td>\n",
       "      <td>178</td>\n",
       "      <td>55</td>\n",
       "      <td>19021</td>\n",
       "    </tr>\n",
       "  </tbody>\n",
       "</table>\n",
       "</div>"
      ],
      "text/plain": [
       "   ID Name  Age Gender  Height  Weight  Income\n",
       "0   1    A   37      M     172      72   38960\n",
       "4   5    E   34      M     177      70   41907\n",
       "9  10    J   45      F     178      55   19021"
      ]
     },
     "execution_count": 14,
     "metadata": {},
     "output_type": "execute_result"
    }
   ],
   "source": [
    "df[(df.Age>30) & (df.Height>170)]"
   ]
  },
  {
   "cell_type": "markdown",
   "metadata": {},
   "source": [
    "### To select few columns while subsetting, we use .loc\n",
    "\n",
    ".loc[ ] is primarily label based, but may also be used with a boolean array."
   ]
  },
  {
   "cell_type": "code",
   "execution_count": 18,
   "metadata": {
    "collapsed": false
   },
   "outputs": [
    {
     "data": {
      "text/html": [
       "<div>\n",
       "<table border=\"1\" class=\"dataframe\">\n",
       "  <thead>\n",
       "    <tr style=\"text-align: right;\">\n",
       "      <th></th>\n",
       "      <th>Name</th>\n",
       "      <th>Age</th>\n",
       "      <th>Height</th>\n",
       "    </tr>\n",
       "  </thead>\n",
       "  <tbody>\n",
       "    <tr>\n",
       "      <th>0</th>\n",
       "      <td>A</td>\n",
       "      <td>37</td>\n",
       "      <td>172</td>\n",
       "    </tr>\n",
       "    <tr>\n",
       "      <th>2</th>\n",
       "      <td>C</td>\n",
       "      <td>41</td>\n",
       "      <td>166</td>\n",
       "    </tr>\n",
       "    <tr>\n",
       "      <th>4</th>\n",
       "      <td>E</td>\n",
       "      <td>34</td>\n",
       "      <td>177</td>\n",
       "    </tr>\n",
       "    <tr>\n",
       "      <th>5</th>\n",
       "      <td>F</td>\n",
       "      <td>34</td>\n",
       "      <td>158</td>\n",
       "    </tr>\n",
       "    <tr>\n",
       "      <th>7</th>\n",
       "      <td>H</td>\n",
       "      <td>41</td>\n",
       "      <td>165</td>\n",
       "    </tr>\n",
       "    <tr>\n",
       "      <th>9</th>\n",
       "      <td>J</td>\n",
       "      <td>45</td>\n",
       "      <td>178</td>\n",
       "    </tr>\n",
       "  </tbody>\n",
       "</table>\n",
       "</div>"
      ],
      "text/plain": [
       "  Name  Age  Height\n",
       "0    A   37     172\n",
       "2    C   41     166\n",
       "4    E   34     177\n",
       "5    F   34     158\n",
       "7    H   41     165\n",
       "9    J   45     178"
      ]
     },
     "execution_count": 18,
     "metadata": {},
     "output_type": "execute_result"
    }
   ],
   "source": [
    "df.loc[df.Age>30,['Name','Age','Height']]"
   ]
  },
  {
   "cell_type": "markdown",
   "metadata": {},
   "source": [
    "#### without .loc, it throws an error"
   ]
  },
  {
   "cell_type": "markdown",
   "metadata": {},
   "source": [
    "#### .iloc is used when we want to select rows/columns with integer value"
   ]
  },
  {
   "cell_type": "code",
   "execution_count": 21,
   "metadata": {
    "collapsed": false
   },
   "outputs": [
    {
     "data": {
      "text/plain": [
       "ID            3\n",
       "Name          C\n",
       "Age          41\n",
       "Gender        M\n",
       "Height      166\n",
       "Weight       67\n",
       "Income    77256\n",
       "Name: 2, dtype: object"
      ]
     },
     "execution_count": 21,
     "metadata": {},
     "output_type": "execute_result"
    }
   ],
   "source": [
    "df.iloc[2,:]"
   ]
  },
  {
   "cell_type": "markdown",
   "metadata": {},
   "source": [
    "Many other ways to subset/select eg. iat,ix etc(Explore)"
   ]
  },
  {
   "cell_type": "markdown",
   "metadata": {},
   "source": [
    "### To check the data types of all columns, we use dtypes"
   ]
  },
  {
   "cell_type": "code",
   "execution_count": 32,
   "metadata": {
    "collapsed": false
   },
   "outputs": [
    {
     "data": {
      "text/plain": [
       "ID         int64\n",
       "Name      object\n",
       "Age        int64\n",
       "Gender    object\n",
       "Height    object\n",
       "Weight     int64\n",
       "Income     int64\n",
       "dtype: object"
      ]
     },
     "execution_count": 32,
     "metadata": {},
     "output_type": "execute_result"
    }
   ],
   "source": [
    "df.dtypes"
   ]
  },
  {
   "cell_type": "markdown",
   "metadata": {},
   "source": [
    "### To change the datatype of a particular column, we use pd.to_'datatype' function of pandas"
   ]
  },
  {
   "cell_type": "code",
   "execution_count": 33,
   "metadata": {
    "collapsed": false
   },
   "outputs": [],
   "source": [
    "df.Height=pd.to_numeric(df.Height, errors='ignore')"
   ]
  },
  {
   "cell_type": "markdown",
   "metadata": {},
   "source": [
    "### Count the number of NANs all the columns"
   ]
  },
  {
   "cell_type": "code",
   "execution_count": 41,
   "metadata": {
    "collapsed": false
   },
   "outputs": [
    {
     "data": {
      "text/plain": [
       "ID        0\n",
       "Name      0\n",
       "Age       0\n",
       "Gender    0\n",
       "Height    0\n",
       "Weight    0\n",
       "Income    0\n",
       "dtype: int64"
      ]
     },
     "execution_count": 41,
     "metadata": {},
     "output_type": "execute_result"
    }
   ],
   "source": [
    "df.isnull().sum(axis=0)"
   ]
  },
  {
   "cell_type": "markdown",
   "metadata": {},
   "source": [
    "Here, axis=0 gives the count for all columns.<br>\n",
    "axis=1 will give the count for all rows"
   ]
  },
  {
   "cell_type": "markdown",
   "metadata": {},
   "source": [
    "### Drop\n",
    "\n",
    ".drop is used to drop a row/column from the dataframe"
   ]
  },
  {
   "cell_type": "code",
   "execution_count": 57,
   "metadata": {
    "collapsed": false
   },
   "outputs": [
    {
     "data": {
      "text/html": [
       "<div>\n",
       "<table border=\"1\" class=\"dataframe\">\n",
       "  <thead>\n",
       "    <tr style=\"text-align: right;\">\n",
       "      <th></th>\n",
       "      <th>ID</th>\n",
       "      <th>Name</th>\n",
       "      <th>Age</th>\n",
       "      <th>Gender</th>\n",
       "      <th>Height</th>\n",
       "      <th>Income</th>\n",
       "    </tr>\n",
       "  </thead>\n",
       "  <tbody>\n",
       "    <tr>\n",
       "      <th>0</th>\n",
       "      <td>1</td>\n",
       "      <td>A</td>\n",
       "      <td>37</td>\n",
       "      <td>M</td>\n",
       "      <td>172</td>\n",
       "      <td>38960</td>\n",
       "    </tr>\n",
       "    <tr>\n",
       "      <th>1</th>\n",
       "      <td>2</td>\n",
       "      <td>B</td>\n",
       "      <td>29</td>\n",
       "      <td>F</td>\n",
       "      <td>172</td>\n",
       "      <td>74863</td>\n",
       "    </tr>\n",
       "    <tr>\n",
       "      <th>2</th>\n",
       "      <td>3</td>\n",
       "      <td>C</td>\n",
       "      <td>41</td>\n",
       "      <td>M</td>\n",
       "      <td>166</td>\n",
       "      <td>77256</td>\n",
       "    </tr>\n",
       "    <tr>\n",
       "      <th>3</th>\n",
       "      <td>4</td>\n",
       "      <td>D</td>\n",
       "      <td>29</td>\n",
       "      <td>F</td>\n",
       "      <td>158</td>\n",
       "      <td>84022</td>\n",
       "    </tr>\n",
       "    <tr>\n",
       "      <th>4</th>\n",
       "      <td>5</td>\n",
       "      <td>E</td>\n",
       "      <td>34</td>\n",
       "      <td>M</td>\n",
       "      <td>177</td>\n",
       "      <td>41907</td>\n",
       "    </tr>\n",
       "    <tr>\n",
       "      <th>5</th>\n",
       "      <td>6</td>\n",
       "      <td>F</td>\n",
       "      <td>34</td>\n",
       "      <td>F</td>\n",
       "      <td>158</td>\n",
       "      <td>86198</td>\n",
       "    </tr>\n",
       "    <tr>\n",
       "      <th>6</th>\n",
       "      <td>7</td>\n",
       "      <td>G</td>\n",
       "      <td>21</td>\n",
       "      <td>M</td>\n",
       "      <td>175</td>\n",
       "      <td>89841</td>\n",
       "    </tr>\n",
       "    <tr>\n",
       "      <th>7</th>\n",
       "      <td>8</td>\n",
       "      <td>H</td>\n",
       "      <td>41</td>\n",
       "      <td>F</td>\n",
       "      <td>165</td>\n",
       "      <td>48630</td>\n",
       "    </tr>\n",
       "    <tr>\n",
       "      <th>8</th>\n",
       "      <td>9</td>\n",
       "      <td>I</td>\n",
       "      <td>25</td>\n",
       "      <td>M</td>\n",
       "      <td>158</td>\n",
       "      <td>22617</td>\n",
       "    </tr>\n",
       "    <tr>\n",
       "      <th>9</th>\n",
       "      <td>10</td>\n",
       "      <td>J</td>\n",
       "      <td>45</td>\n",
       "      <td>F</td>\n",
       "      <td>178</td>\n",
       "      <td>19021</td>\n",
       "    </tr>\n",
       "  </tbody>\n",
       "</table>\n",
       "</div>"
      ],
      "text/plain": [
       "   ID Name  Age Gender  Height  Income\n",
       "0   1    A   37      M     172   38960\n",
       "1   2    B   29      F     172   74863\n",
       "2   3    C   41      M     166   77256\n",
       "3   4    D   29      F     158   84022\n",
       "4   5    E   34      M     177   41907\n",
       "5   6    F   34      F     158   86198\n",
       "6   7    G   21      M     175   89841\n",
       "7   8    H   41      F     165   48630\n",
       "8   9    I   25      M     158   22617\n",
       "9  10    J   45      F     178   19021"
      ]
     },
     "execution_count": 57,
     "metadata": {},
     "output_type": "execute_result"
    }
   ],
   "source": [
    "df.drop(['Weight'],axis=1)"
   ]
  },
  {
   "cell_type": "code",
   "execution_count": 60,
   "metadata": {
    "collapsed": false
   },
   "outputs": [
    {
     "data": {
      "text/html": [
       "<div>\n",
       "<table border=\"1\" class=\"dataframe\">\n",
       "  <thead>\n",
       "    <tr style=\"text-align: right;\">\n",
       "      <th></th>\n",
       "      <th>ID</th>\n",
       "      <th>Name</th>\n",
       "      <th>Age</th>\n",
       "      <th>Gender</th>\n",
       "      <th>Height</th>\n",
       "      <th>Weight</th>\n",
       "      <th>Income</th>\n",
       "    </tr>\n",
       "  </thead>\n",
       "  <tbody>\n",
       "    <tr>\n",
       "      <th>1</th>\n",
       "      <td>2</td>\n",
       "      <td>B</td>\n",
       "      <td>29</td>\n",
       "      <td>F</td>\n",
       "      <td>172</td>\n",
       "      <td>79</td>\n",
       "      <td>74863</td>\n",
       "    </tr>\n",
       "    <tr>\n",
       "      <th>2</th>\n",
       "      <td>3</td>\n",
       "      <td>C</td>\n",
       "      <td>41</td>\n",
       "      <td>M</td>\n",
       "      <td>166</td>\n",
       "      <td>67</td>\n",
       "      <td>77256</td>\n",
       "    </tr>\n",
       "    <tr>\n",
       "      <th>4</th>\n",
       "      <td>5</td>\n",
       "      <td>E</td>\n",
       "      <td>34</td>\n",
       "      <td>M</td>\n",
       "      <td>177</td>\n",
       "      <td>70</td>\n",
       "      <td>41907</td>\n",
       "    </tr>\n",
       "    <tr>\n",
       "      <th>5</th>\n",
       "      <td>6</td>\n",
       "      <td>F</td>\n",
       "      <td>34</td>\n",
       "      <td>F</td>\n",
       "      <td>158</td>\n",
       "      <td>79</td>\n",
       "      <td>86198</td>\n",
       "    </tr>\n",
       "    <tr>\n",
       "      <th>6</th>\n",
       "      <td>7</td>\n",
       "      <td>G</td>\n",
       "      <td>21</td>\n",
       "      <td>M</td>\n",
       "      <td>175</td>\n",
       "      <td>69</td>\n",
       "      <td>89841</td>\n",
       "    </tr>\n",
       "    <tr>\n",
       "      <th>7</th>\n",
       "      <td>8</td>\n",
       "      <td>H</td>\n",
       "      <td>41</td>\n",
       "      <td>F</td>\n",
       "      <td>165</td>\n",
       "      <td>75</td>\n",
       "      <td>48630</td>\n",
       "    </tr>\n",
       "    <tr>\n",
       "      <th>8</th>\n",
       "      <td>9</td>\n",
       "      <td>I</td>\n",
       "      <td>25</td>\n",
       "      <td>M</td>\n",
       "      <td>158</td>\n",
       "      <td>90</td>\n",
       "      <td>22617</td>\n",
       "    </tr>\n",
       "    <tr>\n",
       "      <th>9</th>\n",
       "      <td>10</td>\n",
       "      <td>J</td>\n",
       "      <td>45</td>\n",
       "      <td>F</td>\n",
       "      <td>178</td>\n",
       "      <td>55</td>\n",
       "      <td>19021</td>\n",
       "    </tr>\n",
       "  </tbody>\n",
       "</table>\n",
       "</div>"
      ],
      "text/plain": [
       "   ID Name  Age Gender  Height  Weight  Income\n",
       "1   2    B   29      F     172      79   74863\n",
       "2   3    C   41      M     166      67   77256\n",
       "4   5    E   34      M     177      70   41907\n",
       "5   6    F   34      F     158      79   86198\n",
       "6   7    G   21      M     175      69   89841\n",
       "7   8    H   41      F     165      75   48630\n",
       "8   9    I   25      M     158      90   22617\n",
       "9  10    J   45      F     178      55   19021"
      ]
     },
     "execution_count": 60,
     "metadata": {},
     "output_type": "execute_result"
    }
   ],
   "source": [
    "df.drop([0,3])"
   ]
  },
  {
   "cell_type": "markdown",
   "metadata": {},
   "source": [
    "### Sorting and ranking\n",
    "\n",
    ".sort_index is used to sort the dataframe by index<br>\n",
    ".sort_values is used to sort the dataframe by values of a particular column/ <br>\n",
    ".rank is used to assign ranks to all the entries"
   ]
  },
  {
   "cell_type": "code",
   "execution_count": 63,
   "metadata": {
    "collapsed": false
   },
   "outputs": [
    {
     "data": {
      "text/html": [
       "<div>\n",
       "<table border=\"1\" class=\"dataframe\">\n",
       "  <thead>\n",
       "    <tr style=\"text-align: right;\">\n",
       "      <th></th>\n",
       "      <th>ID</th>\n",
       "      <th>Name</th>\n",
       "      <th>Age</th>\n",
       "      <th>Gender</th>\n",
       "      <th>Height</th>\n",
       "      <th>Weight</th>\n",
       "      <th>Income</th>\n",
       "    </tr>\n",
       "  </thead>\n",
       "  <tbody>\n",
       "    <tr>\n",
       "      <th>6</th>\n",
       "      <td>7</td>\n",
       "      <td>G</td>\n",
       "      <td>21</td>\n",
       "      <td>M</td>\n",
       "      <td>175</td>\n",
       "      <td>69</td>\n",
       "      <td>89841</td>\n",
       "    </tr>\n",
       "    <tr>\n",
       "      <th>8</th>\n",
       "      <td>9</td>\n",
       "      <td>I</td>\n",
       "      <td>25</td>\n",
       "      <td>M</td>\n",
       "      <td>158</td>\n",
       "      <td>90</td>\n",
       "      <td>22617</td>\n",
       "    </tr>\n",
       "    <tr>\n",
       "      <th>1</th>\n",
       "      <td>2</td>\n",
       "      <td>B</td>\n",
       "      <td>29</td>\n",
       "      <td>F</td>\n",
       "      <td>172</td>\n",
       "      <td>79</td>\n",
       "      <td>74863</td>\n",
       "    </tr>\n",
       "    <tr>\n",
       "      <th>3</th>\n",
       "      <td>4</td>\n",
       "      <td>D</td>\n",
       "      <td>29</td>\n",
       "      <td>F</td>\n",
       "      <td>158</td>\n",
       "      <td>61</td>\n",
       "      <td>84022</td>\n",
       "    </tr>\n",
       "    <tr>\n",
       "      <th>4</th>\n",
       "      <td>5</td>\n",
       "      <td>E</td>\n",
       "      <td>34</td>\n",
       "      <td>M</td>\n",
       "      <td>177</td>\n",
       "      <td>70</td>\n",
       "      <td>41907</td>\n",
       "    </tr>\n",
       "    <tr>\n",
       "      <th>5</th>\n",
       "      <td>6</td>\n",
       "      <td>F</td>\n",
       "      <td>34</td>\n",
       "      <td>F</td>\n",
       "      <td>158</td>\n",
       "      <td>79</td>\n",
       "      <td>86198</td>\n",
       "    </tr>\n",
       "    <tr>\n",
       "      <th>0</th>\n",
       "      <td>1</td>\n",
       "      <td>A</td>\n",
       "      <td>37</td>\n",
       "      <td>M</td>\n",
       "      <td>172</td>\n",
       "      <td>72</td>\n",
       "      <td>38960</td>\n",
       "    </tr>\n",
       "    <tr>\n",
       "      <th>2</th>\n",
       "      <td>3</td>\n",
       "      <td>C</td>\n",
       "      <td>41</td>\n",
       "      <td>M</td>\n",
       "      <td>166</td>\n",
       "      <td>67</td>\n",
       "      <td>77256</td>\n",
       "    </tr>\n",
       "    <tr>\n",
       "      <th>7</th>\n",
       "      <td>8</td>\n",
       "      <td>H</td>\n",
       "      <td>41</td>\n",
       "      <td>F</td>\n",
       "      <td>165</td>\n",
       "      <td>75</td>\n",
       "      <td>48630</td>\n",
       "    </tr>\n",
       "    <tr>\n",
       "      <th>9</th>\n",
       "      <td>10</td>\n",
       "      <td>J</td>\n",
       "      <td>45</td>\n",
       "      <td>F</td>\n",
       "      <td>178</td>\n",
       "      <td>55</td>\n",
       "      <td>19021</td>\n",
       "    </tr>\n",
       "  </tbody>\n",
       "</table>\n",
       "</div>"
      ],
      "text/plain": [
       "   ID Name  Age Gender  Height  Weight  Income\n",
       "6   7    G   21      M     175      69   89841\n",
       "8   9    I   25      M     158      90   22617\n",
       "1   2    B   29      F     172      79   74863\n",
       "3   4    D   29      F     158      61   84022\n",
       "4   5    E   34      M     177      70   41907\n",
       "5   6    F   34      F     158      79   86198\n",
       "0   1    A   37      M     172      72   38960\n",
       "2   3    C   41      M     166      67   77256\n",
       "7   8    H   41      F     165      75   48630\n",
       "9  10    J   45      F     178      55   19021"
      ]
     },
     "execution_count": 63,
     "metadata": {},
     "output_type": "execute_result"
    }
   ],
   "source": [
    "df.sort_values('Age')"
   ]
  },
  {
   "cell_type": "code",
   "execution_count": 64,
   "metadata": {
    "collapsed": false
   },
   "outputs": [
    {
     "data": {
      "text/html": [
       "<div>\n",
       "<table border=\"1\" class=\"dataframe\">\n",
       "  <thead>\n",
       "    <tr style=\"text-align: right;\">\n",
       "      <th></th>\n",
       "      <th>ID</th>\n",
       "      <th>Name</th>\n",
       "      <th>Age</th>\n",
       "      <th>Gender</th>\n",
       "      <th>Height</th>\n",
       "      <th>Weight</th>\n",
       "      <th>Income</th>\n",
       "    </tr>\n",
       "  </thead>\n",
       "  <tbody>\n",
       "    <tr>\n",
       "      <th>0</th>\n",
       "      <td>1.0</td>\n",
       "      <td>1.0</td>\n",
       "      <td>7.0</td>\n",
       "      <td>8.0</td>\n",
       "      <td>6.5</td>\n",
       "      <td>6.0</td>\n",
       "      <td>3.0</td>\n",
       "    </tr>\n",
       "    <tr>\n",
       "      <th>1</th>\n",
       "      <td>2.0</td>\n",
       "      <td>2.0</td>\n",
       "      <td>3.5</td>\n",
       "      <td>3.0</td>\n",
       "      <td>6.5</td>\n",
       "      <td>8.5</td>\n",
       "      <td>6.0</td>\n",
       "    </tr>\n",
       "    <tr>\n",
       "      <th>2</th>\n",
       "      <td>3.0</td>\n",
       "      <td>3.0</td>\n",
       "      <td>8.5</td>\n",
       "      <td>8.0</td>\n",
       "      <td>5.0</td>\n",
       "      <td>3.0</td>\n",
       "      <td>7.0</td>\n",
       "    </tr>\n",
       "    <tr>\n",
       "      <th>3</th>\n",
       "      <td>4.0</td>\n",
       "      <td>4.0</td>\n",
       "      <td>3.5</td>\n",
       "      <td>3.0</td>\n",
       "      <td>2.0</td>\n",
       "      <td>2.0</td>\n",
       "      <td>8.0</td>\n",
       "    </tr>\n",
       "    <tr>\n",
       "      <th>4</th>\n",
       "      <td>5.0</td>\n",
       "      <td>5.0</td>\n",
       "      <td>5.5</td>\n",
       "      <td>8.0</td>\n",
       "      <td>9.0</td>\n",
       "      <td>5.0</td>\n",
       "      <td>4.0</td>\n",
       "    </tr>\n",
       "    <tr>\n",
       "      <th>5</th>\n",
       "      <td>6.0</td>\n",
       "      <td>6.0</td>\n",
       "      <td>5.5</td>\n",
       "      <td>3.0</td>\n",
       "      <td>2.0</td>\n",
       "      <td>8.5</td>\n",
       "      <td>9.0</td>\n",
       "    </tr>\n",
       "    <tr>\n",
       "      <th>6</th>\n",
       "      <td>7.0</td>\n",
       "      <td>7.0</td>\n",
       "      <td>1.0</td>\n",
       "      <td>8.0</td>\n",
       "      <td>8.0</td>\n",
       "      <td>4.0</td>\n",
       "      <td>10.0</td>\n",
       "    </tr>\n",
       "    <tr>\n",
       "      <th>7</th>\n",
       "      <td>8.0</td>\n",
       "      <td>8.0</td>\n",
       "      <td>8.5</td>\n",
       "      <td>3.0</td>\n",
       "      <td>4.0</td>\n",
       "      <td>7.0</td>\n",
       "      <td>5.0</td>\n",
       "    </tr>\n",
       "    <tr>\n",
       "      <th>8</th>\n",
       "      <td>9.0</td>\n",
       "      <td>9.0</td>\n",
       "      <td>2.0</td>\n",
       "      <td>8.0</td>\n",
       "      <td>2.0</td>\n",
       "      <td>10.0</td>\n",
       "      <td>2.0</td>\n",
       "    </tr>\n",
       "    <tr>\n",
       "      <th>9</th>\n",
       "      <td>10.0</td>\n",
       "      <td>10.0</td>\n",
       "      <td>10.0</td>\n",
       "      <td>3.0</td>\n",
       "      <td>10.0</td>\n",
       "      <td>1.0</td>\n",
       "      <td>1.0</td>\n",
       "    </tr>\n",
       "  </tbody>\n",
       "</table>\n",
       "</div>"
      ],
      "text/plain": [
       "     ID  Name   Age  Gender  Height  Weight  Income\n",
       "0   1.0   1.0   7.0     8.0     6.5     6.0     3.0\n",
       "1   2.0   2.0   3.5     3.0     6.5     8.5     6.0\n",
       "2   3.0   3.0   8.5     8.0     5.0     3.0     7.0\n",
       "3   4.0   4.0   3.5     3.0     2.0     2.0     8.0\n",
       "4   5.0   5.0   5.5     8.0     9.0     5.0     4.0\n",
       "5   6.0   6.0   5.5     3.0     2.0     8.5     9.0\n",
       "6   7.0   7.0   1.0     8.0     8.0     4.0    10.0\n",
       "7   8.0   8.0   8.5     3.0     4.0     7.0     5.0\n",
       "8   9.0   9.0   2.0     8.0     2.0    10.0     2.0\n",
       "9  10.0  10.0  10.0     3.0    10.0     1.0     1.0"
      ]
     },
     "execution_count": 64,
     "metadata": {},
     "output_type": "execute_result"
    }
   ],
   "source": [
    "df.rank()"
   ]
  },
  {
   "cell_type": "markdown",
   "metadata": {},
   "source": [
    "### Basic information about the dataframe"
   ]
  },
  {
   "cell_type": "code",
   "execution_count": 65,
   "metadata": {
    "collapsed": false
   },
   "outputs": [
    {
     "data": {
      "text/plain": [
       "(10, 7)"
      ]
     },
     "execution_count": 65,
     "metadata": {},
     "output_type": "execute_result"
    }
   ],
   "source": [
    "df.shape"
   ]
  },
  {
   "cell_type": "code",
   "execution_count": 66,
   "metadata": {
    "collapsed": false
   },
   "outputs": [
    {
     "data": {
      "text/plain": [
       "Index(['ID', 'Name', 'Age', 'Gender', 'Height', 'Weight', 'Income'], dtype='object')"
      ]
     },
     "execution_count": 66,
     "metadata": {},
     "output_type": "execute_result"
    }
   ],
   "source": [
    "df.columns"
   ]
  },
  {
   "cell_type": "code",
   "execution_count": 67,
   "metadata": {
    "collapsed": true
   },
   "outputs": [],
   "source": [
    "df.columns=('id','name','age','sex','height(in cm)','weight(in kg)','earning')"
   ]
  },
  {
   "cell_type": "code",
   "execution_count": 69,
   "metadata": {
    "collapsed": false
   },
   "outputs": [
    {
     "data": {
      "text/plain": [
       "Index(['id', 'name', 'age', 'sex', 'height(in cm)', 'weight(in kg)',\n",
       "       'earning'],\n",
       "      dtype='object')"
      ]
     },
     "execution_count": 69,
     "metadata": {},
     "output_type": "execute_result"
    }
   ],
   "source": [
    "df.columns"
   ]
  },
  {
   "cell_type": "code",
   "execution_count": 74,
   "metadata": {
    "collapsed": false
   },
   "outputs": [
    {
     "data": {
      "text/plain": [
       "id               10\n",
       "name             10\n",
       "age              10\n",
       "sex              10\n",
       "height(in cm)    10\n",
       "weight(in kg)    10\n",
       "earning          10\n",
       "dtype: int64"
      ]
     },
     "execution_count": 74,
     "metadata": {},
     "output_type": "execute_result"
    }
   ],
   "source": [
    "df.count()"
   ]
  },
  {
   "cell_type": "markdown",
   "metadata": {},
   "source": [
    "### Aggregate functions\n",
    "<br>\n",
    ".sum(), .mean(), .cumsum(), .min(), .max() , .median() are a few aggregation functions available<br>\n",
    ".describe() gives a summary of the dataframe"
   ]
  },
  {
   "cell_type": "code",
   "execution_count": 76,
   "metadata": {
    "collapsed": false
   },
   "outputs": [
    {
     "data": {
      "text/plain": [
       "583315"
      ]
     },
     "execution_count": 76,
     "metadata": {},
     "output_type": "execute_result"
    }
   ],
   "source": [
    "df.earning.sum()"
   ]
  },
  {
   "cell_type": "code",
   "execution_count": 79,
   "metadata": {
    "collapsed": false
   },
   "outputs": [
    {
     "data": {
      "text/plain": [
       "33.6"
      ]
     },
     "execution_count": 79,
     "metadata": {},
     "output_type": "execute_result"
    }
   ],
   "source": [
    "df.age.mean()"
   ]
  },
  {
   "cell_type": "code",
   "execution_count": 81,
   "metadata": {
    "collapsed": false
   },
   "outputs": [
    {
     "data": {
      "text/plain": [
       "0     38960\n",
       "1    113823\n",
       "2    191079\n",
       "3    275101\n",
       "4    317008\n",
       "5    403206\n",
       "6    493047\n",
       "7    541677\n",
       "8    564294\n",
       "9    583315\n",
       "Name: earning, dtype: int64"
      ]
     },
     "execution_count": 81,
     "metadata": {},
     "output_type": "execute_result"
    }
   ],
   "source": [
    "df.earning.cumsum()"
   ]
  },
  {
   "cell_type": "markdown",
   "metadata": {},
   "source": [
    "Note that cumsum() returns a list of original column length, hence we can use it to create a new column"
   ]
  },
  {
   "cell_type": "code",
   "execution_count": 82,
   "metadata": {
    "collapsed": false
   },
   "outputs": [
    {
     "data": {
      "text/html": [
       "<div>\n",
       "<table border=\"1\" class=\"dataframe\">\n",
       "  <thead>\n",
       "    <tr style=\"text-align: right;\">\n",
       "      <th></th>\n",
       "      <th>id</th>\n",
       "      <th>age</th>\n",
       "      <th>height(in cm)</th>\n",
       "      <th>weight(in kg)</th>\n",
       "      <th>earning</th>\n",
       "    </tr>\n",
       "  </thead>\n",
       "  <tbody>\n",
       "    <tr>\n",
       "      <th>count</th>\n",
       "      <td>10.00000</td>\n",
       "      <td>10.000000</td>\n",
       "      <td>10.000000</td>\n",
       "      <td>10.000000</td>\n",
       "      <td>10.00000</td>\n",
       "    </tr>\n",
       "    <tr>\n",
       "      <th>mean</th>\n",
       "      <td>5.50000</td>\n",
       "      <td>33.600000</td>\n",
       "      <td>167.900000</td>\n",
       "      <td>71.700000</td>\n",
       "      <td>58331.50000</td>\n",
       "    </tr>\n",
       "    <tr>\n",
       "      <th>std</th>\n",
       "      <td>3.02765</td>\n",
       "      <td>7.647803</td>\n",
       "      <td>7.992357</td>\n",
       "      <td>9.877584</td>\n",
       "      <td>27122.76336</td>\n",
       "    </tr>\n",
       "    <tr>\n",
       "      <th>min</th>\n",
       "      <td>1.00000</td>\n",
       "      <td>21.000000</td>\n",
       "      <td>158.000000</td>\n",
       "      <td>55.000000</td>\n",
       "      <td>19021.00000</td>\n",
       "    </tr>\n",
       "    <tr>\n",
       "      <th>25%</th>\n",
       "      <td>3.25000</td>\n",
       "      <td>29.000000</td>\n",
       "      <td>159.750000</td>\n",
       "      <td>67.500000</td>\n",
       "      <td>39696.75000</td>\n",
       "    </tr>\n",
       "    <tr>\n",
       "      <th>50%</th>\n",
       "      <td>5.50000</td>\n",
       "      <td>34.000000</td>\n",
       "      <td>169.000000</td>\n",
       "      <td>71.000000</td>\n",
       "      <td>61746.50000</td>\n",
       "    </tr>\n",
       "    <tr>\n",
       "      <th>75%</th>\n",
       "      <td>7.75000</td>\n",
       "      <td>40.000000</td>\n",
       "      <td>174.250000</td>\n",
       "      <td>78.000000</td>\n",
       "      <td>82330.50000</td>\n",
       "    </tr>\n",
       "    <tr>\n",
       "      <th>max</th>\n",
       "      <td>10.00000</td>\n",
       "      <td>45.000000</td>\n",
       "      <td>178.000000</td>\n",
       "      <td>90.000000</td>\n",
       "      <td>89841.00000</td>\n",
       "    </tr>\n",
       "  </tbody>\n",
       "</table>\n",
       "</div>"
      ],
      "text/plain": [
       "             id        age  height(in cm)  weight(in kg)      earning\n",
       "count  10.00000  10.000000      10.000000      10.000000     10.00000\n",
       "mean    5.50000  33.600000     167.900000      71.700000  58331.50000\n",
       "std     3.02765   7.647803       7.992357       9.877584  27122.76336\n",
       "min     1.00000  21.000000     158.000000      55.000000  19021.00000\n",
       "25%     3.25000  29.000000     159.750000      67.500000  39696.75000\n",
       "50%     5.50000  34.000000     169.000000      71.000000  61746.50000\n",
       "75%     7.75000  40.000000     174.250000      78.000000  82330.50000\n",
       "max    10.00000  45.000000     178.000000      90.000000  89841.00000"
      ]
     },
     "execution_count": 82,
     "metadata": {},
     "output_type": "execute_result"
    }
   ],
   "source": [
    "df.describe()"
   ]
  },
  {
   "cell_type": "markdown",
   "metadata": {},
   "source": [
    "### Group by function\n",
    "<br>\n",
    "groupby is similar to SQL group by and is usually accompanied by an aggregate function"
   ]
  },
  {
   "cell_type": "code",
   "execution_count": 97,
   "metadata": {
    "collapsed": false
   },
   "outputs": [
    {
     "data": {
      "text/html": [
       "<div>\n",
       "<table border=\"1\" class=\"dataframe\">\n",
       "  <thead>\n",
       "    <tr style=\"text-align: right;\">\n",
       "      <th></th>\n",
       "      <th>sex</th>\n",
       "      <th>earning</th>\n",
       "    </tr>\n",
       "  </thead>\n",
       "  <tbody>\n",
       "    <tr>\n",
       "      <th>0</th>\n",
       "      <td>F</td>\n",
       "      <td>62546.8</td>\n",
       "    </tr>\n",
       "    <tr>\n",
       "      <th>1</th>\n",
       "      <td>M</td>\n",
       "      <td>54116.2</td>\n",
       "    </tr>\n",
       "  </tbody>\n",
       "</table>\n",
       "</div>"
      ],
      "text/plain": [
       "  sex  earning\n",
       "0   F  62546.8\n",
       "1   M  54116.2"
      ]
     },
     "execution_count": 97,
     "metadata": {},
     "output_type": "execute_result"
    }
   ],
   "source": [
    "df.groupby(\"sex\",as_index=False)['earning'].mean()"
   ]
  },
  {
   "cell_type": "markdown",
   "metadata": {},
   "source": [
    "### Merge,append,concat"
   ]
  },
  {
   "cell_type": "code",
   "execution_count": 100,
   "metadata": {
    "collapsed": true
   },
   "outputs": [],
   "source": [
    "df1=df.groupby(\"sex\",as_index=False)['earning'].mean()"
   ]
  },
  {
   "cell_type": "code",
   "execution_count": 101,
   "metadata": {
    "collapsed": true
   },
   "outputs": [],
   "source": [
    "df1.columns=('sex','avg_income')"
   ]
  },
  {
   "cell_type": "code",
   "execution_count": 102,
   "metadata": {
    "collapsed": false
   },
   "outputs": [
    {
     "data": {
      "text/html": [
       "<div>\n",
       "<table border=\"1\" class=\"dataframe\">\n",
       "  <thead>\n",
       "    <tr style=\"text-align: right;\">\n",
       "      <th></th>\n",
       "      <th>id</th>\n",
       "      <th>name</th>\n",
       "      <th>age</th>\n",
       "      <th>sex</th>\n",
       "      <th>height(in cm)</th>\n",
       "      <th>weight(in kg)</th>\n",
       "      <th>earning</th>\n",
       "      <th>avg_income</th>\n",
       "    </tr>\n",
       "  </thead>\n",
       "  <tbody>\n",
       "    <tr>\n",
       "      <th>0</th>\n",
       "      <td>1</td>\n",
       "      <td>A</td>\n",
       "      <td>37</td>\n",
       "      <td>M</td>\n",
       "      <td>172</td>\n",
       "      <td>72</td>\n",
       "      <td>38960</td>\n",
       "      <td>54116.2</td>\n",
       "    </tr>\n",
       "    <tr>\n",
       "      <th>1</th>\n",
       "      <td>3</td>\n",
       "      <td>C</td>\n",
       "      <td>41</td>\n",
       "      <td>M</td>\n",
       "      <td>166</td>\n",
       "      <td>67</td>\n",
       "      <td>77256</td>\n",
       "      <td>54116.2</td>\n",
       "    </tr>\n",
       "    <tr>\n",
       "      <th>2</th>\n",
       "      <td>5</td>\n",
       "      <td>E</td>\n",
       "      <td>34</td>\n",
       "      <td>M</td>\n",
       "      <td>177</td>\n",
       "      <td>70</td>\n",
       "      <td>41907</td>\n",
       "      <td>54116.2</td>\n",
       "    </tr>\n",
       "    <tr>\n",
       "      <th>3</th>\n",
       "      <td>7</td>\n",
       "      <td>G</td>\n",
       "      <td>21</td>\n",
       "      <td>M</td>\n",
       "      <td>175</td>\n",
       "      <td>69</td>\n",
       "      <td>89841</td>\n",
       "      <td>54116.2</td>\n",
       "    </tr>\n",
       "    <tr>\n",
       "      <th>4</th>\n",
       "      <td>9</td>\n",
       "      <td>I</td>\n",
       "      <td>25</td>\n",
       "      <td>M</td>\n",
       "      <td>158</td>\n",
       "      <td>90</td>\n",
       "      <td>22617</td>\n",
       "      <td>54116.2</td>\n",
       "    </tr>\n",
       "    <tr>\n",
       "      <th>5</th>\n",
       "      <td>2</td>\n",
       "      <td>B</td>\n",
       "      <td>29</td>\n",
       "      <td>F</td>\n",
       "      <td>172</td>\n",
       "      <td>79</td>\n",
       "      <td>74863</td>\n",
       "      <td>62546.8</td>\n",
       "    </tr>\n",
       "    <tr>\n",
       "      <th>6</th>\n",
       "      <td>4</td>\n",
       "      <td>D</td>\n",
       "      <td>29</td>\n",
       "      <td>F</td>\n",
       "      <td>158</td>\n",
       "      <td>61</td>\n",
       "      <td>84022</td>\n",
       "      <td>62546.8</td>\n",
       "    </tr>\n",
       "    <tr>\n",
       "      <th>7</th>\n",
       "      <td>6</td>\n",
       "      <td>F</td>\n",
       "      <td>34</td>\n",
       "      <td>F</td>\n",
       "      <td>158</td>\n",
       "      <td>79</td>\n",
       "      <td>86198</td>\n",
       "      <td>62546.8</td>\n",
       "    </tr>\n",
       "    <tr>\n",
       "      <th>8</th>\n",
       "      <td>8</td>\n",
       "      <td>H</td>\n",
       "      <td>41</td>\n",
       "      <td>F</td>\n",
       "      <td>165</td>\n",
       "      <td>75</td>\n",
       "      <td>48630</td>\n",
       "      <td>62546.8</td>\n",
       "    </tr>\n",
       "    <tr>\n",
       "      <th>9</th>\n",
       "      <td>10</td>\n",
       "      <td>J</td>\n",
       "      <td>45</td>\n",
       "      <td>F</td>\n",
       "      <td>178</td>\n",
       "      <td>55</td>\n",
       "      <td>19021</td>\n",
       "      <td>62546.8</td>\n",
       "    </tr>\n",
       "  </tbody>\n",
       "</table>\n",
       "</div>"
      ],
      "text/plain": [
       "   id name  age sex  height(in cm)  weight(in kg)  earning  avg_income\n",
       "0   1    A   37   M            172             72    38960     54116.2\n",
       "1   3    C   41   M            166             67    77256     54116.2\n",
       "2   5    E   34   M            177             70    41907     54116.2\n",
       "3   7    G   21   M            175             69    89841     54116.2\n",
       "4   9    I   25   M            158             90    22617     54116.2\n",
       "5   2    B   29   F            172             79    74863     62546.8\n",
       "6   4    D   29   F            158             61    84022     62546.8\n",
       "7   6    F   34   F            158             79    86198     62546.8\n",
       "8   8    H   41   F            165             75    48630     62546.8\n",
       "9  10    J   45   F            178             55    19021     62546.8"
      ]
     },
     "execution_count": 102,
     "metadata": {},
     "output_type": "execute_result"
    }
   ],
   "source": [
    "pd.merge(df, df1,on='sex')"
   ]
  },
  {
   "cell_type": "code",
   "execution_count": 103,
   "metadata": {
    "collapsed": false
   },
   "outputs": [
    {
     "data": {
      "text/html": [
       "<div>\n",
       "<table border=\"1\" class=\"dataframe\">\n",
       "  <thead>\n",
       "    <tr style=\"text-align: right;\">\n",
       "      <th></th>\n",
       "      <th>id</th>\n",
       "      <th>name</th>\n",
       "      <th>age</th>\n",
       "      <th>sex</th>\n",
       "      <th>height(in cm)</th>\n",
       "      <th>weight(in kg)</th>\n",
       "      <th>earning</th>\n",
       "    </tr>\n",
       "  </thead>\n",
       "  <tbody>\n",
       "    <tr>\n",
       "      <th>0</th>\n",
       "      <td>1</td>\n",
       "      <td>A</td>\n",
       "      <td>37</td>\n",
       "      <td>M</td>\n",
       "      <td>172</td>\n",
       "      <td>72</td>\n",
       "      <td>38960</td>\n",
       "    </tr>\n",
       "    <tr>\n",
       "      <th>1</th>\n",
       "      <td>2</td>\n",
       "      <td>B</td>\n",
       "      <td>29</td>\n",
       "      <td>F</td>\n",
       "      <td>172</td>\n",
       "      <td>79</td>\n",
       "      <td>74863</td>\n",
       "    </tr>\n",
       "    <tr>\n",
       "      <th>2</th>\n",
       "      <td>3</td>\n",
       "      <td>C</td>\n",
       "      <td>41</td>\n",
       "      <td>M</td>\n",
       "      <td>166</td>\n",
       "      <td>67</td>\n",
       "      <td>77256</td>\n",
       "    </tr>\n",
       "    <tr>\n",
       "      <th>3</th>\n",
       "      <td>4</td>\n",
       "      <td>D</td>\n",
       "      <td>29</td>\n",
       "      <td>F</td>\n",
       "      <td>158</td>\n",
       "      <td>61</td>\n",
       "      <td>84022</td>\n",
       "    </tr>\n",
       "    <tr>\n",
       "      <th>4</th>\n",
       "      <td>5</td>\n",
       "      <td>E</td>\n",
       "      <td>34</td>\n",
       "      <td>M</td>\n",
       "      <td>177</td>\n",
       "      <td>70</td>\n",
       "      <td>41907</td>\n",
       "    </tr>\n",
       "    <tr>\n",
       "      <th>5</th>\n",
       "      <td>6</td>\n",
       "      <td>F</td>\n",
       "      <td>34</td>\n",
       "      <td>F</td>\n",
       "      <td>158</td>\n",
       "      <td>79</td>\n",
       "      <td>86198</td>\n",
       "    </tr>\n",
       "    <tr>\n",
       "      <th>6</th>\n",
       "      <td>7</td>\n",
       "      <td>G</td>\n",
       "      <td>21</td>\n",
       "      <td>M</td>\n",
       "      <td>175</td>\n",
       "      <td>69</td>\n",
       "      <td>89841</td>\n",
       "    </tr>\n",
       "    <tr>\n",
       "      <th>7</th>\n",
       "      <td>8</td>\n",
       "      <td>H</td>\n",
       "      <td>41</td>\n",
       "      <td>F</td>\n",
       "      <td>165</td>\n",
       "      <td>75</td>\n",
       "      <td>48630</td>\n",
       "    </tr>\n",
       "    <tr>\n",
       "      <th>8</th>\n",
       "      <td>9</td>\n",
       "      <td>I</td>\n",
       "      <td>25</td>\n",
       "      <td>M</td>\n",
       "      <td>158</td>\n",
       "      <td>90</td>\n",
       "      <td>22617</td>\n",
       "    </tr>\n",
       "    <tr>\n",
       "      <th>9</th>\n",
       "      <td>10</td>\n",
       "      <td>J</td>\n",
       "      <td>45</td>\n",
       "      <td>F</td>\n",
       "      <td>178</td>\n",
       "      <td>55</td>\n",
       "      <td>19021</td>\n",
       "    </tr>\n",
       "    <tr>\n",
       "      <th>0</th>\n",
       "      <td>1</td>\n",
       "      <td>A</td>\n",
       "      <td>37</td>\n",
       "      <td>M</td>\n",
       "      <td>172</td>\n",
       "      <td>72</td>\n",
       "      <td>38960</td>\n",
       "    </tr>\n",
       "    <tr>\n",
       "      <th>1</th>\n",
       "      <td>2</td>\n",
       "      <td>B</td>\n",
       "      <td>29</td>\n",
       "      <td>F</td>\n",
       "      <td>172</td>\n",
       "      <td>79</td>\n",
       "      <td>74863</td>\n",
       "    </tr>\n",
       "    <tr>\n",
       "      <th>2</th>\n",
       "      <td>3</td>\n",
       "      <td>C</td>\n",
       "      <td>41</td>\n",
       "      <td>M</td>\n",
       "      <td>166</td>\n",
       "      <td>67</td>\n",
       "      <td>77256</td>\n",
       "    </tr>\n",
       "    <tr>\n",
       "      <th>3</th>\n",
       "      <td>4</td>\n",
       "      <td>D</td>\n",
       "      <td>29</td>\n",
       "      <td>F</td>\n",
       "      <td>158</td>\n",
       "      <td>61</td>\n",
       "      <td>84022</td>\n",
       "    </tr>\n",
       "    <tr>\n",
       "      <th>4</th>\n",
       "      <td>5</td>\n",
       "      <td>E</td>\n",
       "      <td>34</td>\n",
       "      <td>M</td>\n",
       "      <td>177</td>\n",
       "      <td>70</td>\n",
       "      <td>41907</td>\n",
       "    </tr>\n",
       "    <tr>\n",
       "      <th>5</th>\n",
       "      <td>6</td>\n",
       "      <td>F</td>\n",
       "      <td>34</td>\n",
       "      <td>F</td>\n",
       "      <td>158</td>\n",
       "      <td>79</td>\n",
       "      <td>86198</td>\n",
       "    </tr>\n",
       "    <tr>\n",
       "      <th>6</th>\n",
       "      <td>7</td>\n",
       "      <td>G</td>\n",
       "      <td>21</td>\n",
       "      <td>M</td>\n",
       "      <td>175</td>\n",
       "      <td>69</td>\n",
       "      <td>89841</td>\n",
       "    </tr>\n",
       "    <tr>\n",
       "      <th>7</th>\n",
       "      <td>8</td>\n",
       "      <td>H</td>\n",
       "      <td>41</td>\n",
       "      <td>F</td>\n",
       "      <td>165</td>\n",
       "      <td>75</td>\n",
       "      <td>48630</td>\n",
       "    </tr>\n",
       "    <tr>\n",
       "      <th>8</th>\n",
       "      <td>9</td>\n",
       "      <td>I</td>\n",
       "      <td>25</td>\n",
       "      <td>M</td>\n",
       "      <td>158</td>\n",
       "      <td>90</td>\n",
       "      <td>22617</td>\n",
       "    </tr>\n",
       "    <tr>\n",
       "      <th>9</th>\n",
       "      <td>10</td>\n",
       "      <td>J</td>\n",
       "      <td>45</td>\n",
       "      <td>F</td>\n",
       "      <td>178</td>\n",
       "      <td>55</td>\n",
       "      <td>19021</td>\n",
       "    </tr>\n",
       "  </tbody>\n",
       "</table>\n",
       "</div>"
      ],
      "text/plain": [
       "   id name  age sex  height(in cm)  weight(in kg)  earning\n",
       "0   1    A   37   M            172             72    38960\n",
       "1   2    B   29   F            172             79    74863\n",
       "2   3    C   41   M            166             67    77256\n",
       "3   4    D   29   F            158             61    84022\n",
       "4   5    E   34   M            177             70    41907\n",
       "5   6    F   34   F            158             79    86198\n",
       "6   7    G   21   M            175             69    89841\n",
       "7   8    H   41   F            165             75    48630\n",
       "8   9    I   25   M            158             90    22617\n",
       "9  10    J   45   F            178             55    19021\n",
       "0   1    A   37   M            172             72    38960\n",
       "1   2    B   29   F            172             79    74863\n",
       "2   3    C   41   M            166             67    77256\n",
       "3   4    D   29   F            158             61    84022\n",
       "4   5    E   34   M            177             70    41907\n",
       "5   6    F   34   F            158             79    86198\n",
       "6   7    G   21   M            175             69    89841\n",
       "7   8    H   41   F            165             75    48630\n",
       "8   9    I   25   M            158             90    22617\n",
       "9  10    J   45   F            178             55    19021"
      ]
     },
     "execution_count": 103,
     "metadata": {},
     "output_type": "execute_result"
    }
   ],
   "source": [
    "df.append(df)"
   ]
  },
  {
   "cell_type": "code",
   "execution_count": 106,
   "metadata": {
    "collapsed": false
   },
   "outputs": [
    {
     "data": {
      "text/html": [
       "<div>\n",
       "<table border=\"1\" class=\"dataframe\">\n",
       "  <thead>\n",
       "    <tr style=\"text-align: right;\">\n",
       "      <th></th>\n",
       "      <th>id</th>\n",
       "      <th>name</th>\n",
       "      <th>age</th>\n",
       "      <th>sex</th>\n",
       "      <th>height(in cm)</th>\n",
       "      <th>weight(in kg)</th>\n",
       "      <th>earning</th>\n",
       "    </tr>\n",
       "  </thead>\n",
       "  <tbody>\n",
       "    <tr>\n",
       "      <th>0</th>\n",
       "      <td>1</td>\n",
       "      <td>A</td>\n",
       "      <td>37</td>\n",
       "      <td>M</td>\n",
       "      <td>172</td>\n",
       "      <td>72</td>\n",
       "      <td>38960</td>\n",
       "    </tr>\n",
       "    <tr>\n",
       "      <th>1</th>\n",
       "      <td>2</td>\n",
       "      <td>B</td>\n",
       "      <td>29</td>\n",
       "      <td>F</td>\n",
       "      <td>172</td>\n",
       "      <td>79</td>\n",
       "      <td>74863</td>\n",
       "    </tr>\n",
       "    <tr>\n",
       "      <th>2</th>\n",
       "      <td>3</td>\n",
       "      <td>C</td>\n",
       "      <td>41</td>\n",
       "      <td>M</td>\n",
       "      <td>166</td>\n",
       "      <td>67</td>\n",
       "      <td>77256</td>\n",
       "    </tr>\n",
       "    <tr>\n",
       "      <th>3</th>\n",
       "      <td>4</td>\n",
       "      <td>D</td>\n",
       "      <td>29</td>\n",
       "      <td>F</td>\n",
       "      <td>158</td>\n",
       "      <td>61</td>\n",
       "      <td>84022</td>\n",
       "    </tr>\n",
       "    <tr>\n",
       "      <th>4</th>\n",
       "      <td>5</td>\n",
       "      <td>E</td>\n",
       "      <td>34</td>\n",
       "      <td>M</td>\n",
       "      <td>177</td>\n",
       "      <td>70</td>\n",
       "      <td>41907</td>\n",
       "    </tr>\n",
       "    <tr>\n",
       "      <th>5</th>\n",
       "      <td>6</td>\n",
       "      <td>F</td>\n",
       "      <td>34</td>\n",
       "      <td>F</td>\n",
       "      <td>158</td>\n",
       "      <td>79</td>\n",
       "      <td>86198</td>\n",
       "    </tr>\n",
       "    <tr>\n",
       "      <th>6</th>\n",
       "      <td>7</td>\n",
       "      <td>G</td>\n",
       "      <td>21</td>\n",
       "      <td>M</td>\n",
       "      <td>175</td>\n",
       "      <td>69</td>\n",
       "      <td>89841</td>\n",
       "    </tr>\n",
       "    <tr>\n",
       "      <th>7</th>\n",
       "      <td>8</td>\n",
       "      <td>H</td>\n",
       "      <td>41</td>\n",
       "      <td>F</td>\n",
       "      <td>165</td>\n",
       "      <td>75</td>\n",
       "      <td>48630</td>\n",
       "    </tr>\n",
       "    <tr>\n",
       "      <th>8</th>\n",
       "      <td>9</td>\n",
       "      <td>I</td>\n",
       "      <td>25</td>\n",
       "      <td>M</td>\n",
       "      <td>158</td>\n",
       "      <td>90</td>\n",
       "      <td>22617</td>\n",
       "    </tr>\n",
       "    <tr>\n",
       "      <th>9</th>\n",
       "      <td>10</td>\n",
       "      <td>J</td>\n",
       "      <td>45</td>\n",
       "      <td>F</td>\n",
       "      <td>178</td>\n",
       "      <td>55</td>\n",
       "      <td>19021</td>\n",
       "    </tr>\n",
       "    <tr>\n",
       "      <th>0</th>\n",
       "      <td>1</td>\n",
       "      <td>A</td>\n",
       "      <td>37</td>\n",
       "      <td>M</td>\n",
       "      <td>172</td>\n",
       "      <td>72</td>\n",
       "      <td>38960</td>\n",
       "    </tr>\n",
       "    <tr>\n",
       "      <th>1</th>\n",
       "      <td>2</td>\n",
       "      <td>B</td>\n",
       "      <td>29</td>\n",
       "      <td>F</td>\n",
       "      <td>172</td>\n",
       "      <td>79</td>\n",
       "      <td>74863</td>\n",
       "    </tr>\n",
       "    <tr>\n",
       "      <th>2</th>\n",
       "      <td>3</td>\n",
       "      <td>C</td>\n",
       "      <td>41</td>\n",
       "      <td>M</td>\n",
       "      <td>166</td>\n",
       "      <td>67</td>\n",
       "      <td>77256</td>\n",
       "    </tr>\n",
       "    <tr>\n",
       "      <th>3</th>\n",
       "      <td>4</td>\n",
       "      <td>D</td>\n",
       "      <td>29</td>\n",
       "      <td>F</td>\n",
       "      <td>158</td>\n",
       "      <td>61</td>\n",
       "      <td>84022</td>\n",
       "    </tr>\n",
       "    <tr>\n",
       "      <th>4</th>\n",
       "      <td>5</td>\n",
       "      <td>E</td>\n",
       "      <td>34</td>\n",
       "      <td>M</td>\n",
       "      <td>177</td>\n",
       "      <td>70</td>\n",
       "      <td>41907</td>\n",
       "    </tr>\n",
       "    <tr>\n",
       "      <th>5</th>\n",
       "      <td>6</td>\n",
       "      <td>F</td>\n",
       "      <td>34</td>\n",
       "      <td>F</td>\n",
       "      <td>158</td>\n",
       "      <td>79</td>\n",
       "      <td>86198</td>\n",
       "    </tr>\n",
       "    <tr>\n",
       "      <th>6</th>\n",
       "      <td>7</td>\n",
       "      <td>G</td>\n",
       "      <td>21</td>\n",
       "      <td>M</td>\n",
       "      <td>175</td>\n",
       "      <td>69</td>\n",
       "      <td>89841</td>\n",
       "    </tr>\n",
       "    <tr>\n",
       "      <th>7</th>\n",
       "      <td>8</td>\n",
       "      <td>H</td>\n",
       "      <td>41</td>\n",
       "      <td>F</td>\n",
       "      <td>165</td>\n",
       "      <td>75</td>\n",
       "      <td>48630</td>\n",
       "    </tr>\n",
       "    <tr>\n",
       "      <th>8</th>\n",
       "      <td>9</td>\n",
       "      <td>I</td>\n",
       "      <td>25</td>\n",
       "      <td>M</td>\n",
       "      <td>158</td>\n",
       "      <td>90</td>\n",
       "      <td>22617</td>\n",
       "    </tr>\n",
       "    <tr>\n",
       "      <th>9</th>\n",
       "      <td>10</td>\n",
       "      <td>J</td>\n",
       "      <td>45</td>\n",
       "      <td>F</td>\n",
       "      <td>178</td>\n",
       "      <td>55</td>\n",
       "      <td>19021</td>\n",
       "    </tr>\n",
       "  </tbody>\n",
       "</table>\n",
       "</div>"
      ],
      "text/plain": [
       "   id name  age sex  height(in cm)  weight(in kg)  earning\n",
       "0   1    A   37   M            172             72    38960\n",
       "1   2    B   29   F            172             79    74863\n",
       "2   3    C   41   M            166             67    77256\n",
       "3   4    D   29   F            158             61    84022\n",
       "4   5    E   34   M            177             70    41907\n",
       "5   6    F   34   F            158             79    86198\n",
       "6   7    G   21   M            175             69    89841\n",
       "7   8    H   41   F            165             75    48630\n",
       "8   9    I   25   M            158             90    22617\n",
       "9  10    J   45   F            178             55    19021\n",
       "0   1    A   37   M            172             72    38960\n",
       "1   2    B   29   F            172             79    74863\n",
       "2   3    C   41   M            166             67    77256\n",
       "3   4    D   29   F            158             61    84022\n",
       "4   5    E   34   M            177             70    41907\n",
       "5   6    F   34   F            158             79    86198\n",
       "6   7    G   21   M            175             69    89841\n",
       "7   8    H   41   F            165             75    48630\n",
       "8   9    I   25   M            158             90    22617\n",
       "9  10    J   45   F            178             55    19021"
      ]
     },
     "execution_count": 106,
     "metadata": {},
     "output_type": "execute_result"
    }
   ],
   "source": [
    "pd.concat([df,df])"
   ]
  },
  {
   "cell_type": "code",
   "execution_count": 107,
   "metadata": {
    "collapsed": true
   },
   "outputs": [],
   "source": [
    "df2=pd.concat([df,df])"
   ]
  },
  {
   "cell_type": "markdown",
   "metadata": {},
   "source": [
    "### Pivoting"
   ]
  },
  {
   "cell_type": "code",
   "execution_count": 110,
   "metadata": {
    "collapsed": false
   },
   "outputs": [
    {
     "data": {
      "text/html": [
       "<div>\n",
       "<table border=\"1\" class=\"dataframe\">\n",
       "  <thead>\n",
       "    <tr style=\"text-align: right;\">\n",
       "      <th>sex</th>\n",
       "      <th>name</th>\n",
       "      <th>F</th>\n",
       "      <th>M</th>\n",
       "    </tr>\n",
       "  </thead>\n",
       "  <tbody>\n",
       "    <tr>\n",
       "      <th>0</th>\n",
       "      <td>A</td>\n",
       "      <td>NaN</td>\n",
       "      <td>38960.0</td>\n",
       "    </tr>\n",
       "    <tr>\n",
       "      <th>1</th>\n",
       "      <td>B</td>\n",
       "      <td>74863.0</td>\n",
       "      <td>NaN</td>\n",
       "    </tr>\n",
       "    <tr>\n",
       "      <th>2</th>\n",
       "      <td>C</td>\n",
       "      <td>NaN</td>\n",
       "      <td>77256.0</td>\n",
       "    </tr>\n",
       "    <tr>\n",
       "      <th>3</th>\n",
       "      <td>D</td>\n",
       "      <td>84022.0</td>\n",
       "      <td>NaN</td>\n",
       "    </tr>\n",
       "    <tr>\n",
       "      <th>4</th>\n",
       "      <td>E</td>\n",
       "      <td>NaN</td>\n",
       "      <td>41907.0</td>\n",
       "    </tr>\n",
       "    <tr>\n",
       "      <th>5</th>\n",
       "      <td>F</td>\n",
       "      <td>86198.0</td>\n",
       "      <td>NaN</td>\n",
       "    </tr>\n",
       "    <tr>\n",
       "      <th>6</th>\n",
       "      <td>G</td>\n",
       "      <td>NaN</td>\n",
       "      <td>89841.0</td>\n",
       "    </tr>\n",
       "    <tr>\n",
       "      <th>7</th>\n",
       "      <td>H</td>\n",
       "      <td>48630.0</td>\n",
       "      <td>NaN</td>\n",
       "    </tr>\n",
       "    <tr>\n",
       "      <th>8</th>\n",
       "      <td>I</td>\n",
       "      <td>NaN</td>\n",
       "      <td>22617.0</td>\n",
       "    </tr>\n",
       "    <tr>\n",
       "      <th>9</th>\n",
       "      <td>J</td>\n",
       "      <td>19021.0</td>\n",
       "      <td>NaN</td>\n",
       "    </tr>\n",
       "  </tbody>\n",
       "</table>\n",
       "</div>"
      ],
      "text/plain": [
       "sex name        F        M\n",
       "0      A      NaN  38960.0\n",
       "1      B  74863.0      NaN\n",
       "2      C      NaN  77256.0\n",
       "3      D  84022.0      NaN\n",
       "4      E      NaN  41907.0\n",
       "5      F  86198.0      NaN\n",
       "6      G      NaN  89841.0\n",
       "7      H  48630.0      NaN\n",
       "8      I      NaN  22617.0\n",
       "9      J  19021.0      NaN"
      ]
     },
     "execution_count": 110,
     "metadata": {},
     "output_type": "execute_result"
    }
   ],
   "source": [
    "pd.pivot_table(df2, values = 'earning', index=['name'], columns = 'sex').reset_index()"
   ]
  },
  {
   "cell_type": "code",
   "execution_count": 112,
   "metadata": {
    "collapsed": false
   },
   "outputs": [
    {
     "data": {
      "text/html": [
       "<div>\n",
       "<table border=\"1\" class=\"dataframe\">\n",
       "  <thead>\n",
       "    <tr style=\"text-align: right;\">\n",
       "      <th>sex</th>\n",
       "      <th>F</th>\n",
       "      <th>M</th>\n",
       "    </tr>\n",
       "    <tr>\n",
       "      <th>name</th>\n",
       "      <th></th>\n",
       "      <th></th>\n",
       "    </tr>\n",
       "  </thead>\n",
       "  <tbody>\n",
       "    <tr>\n",
       "      <th>A</th>\n",
       "      <td>NaN</td>\n",
       "      <td>38960.0</td>\n",
       "    </tr>\n",
       "    <tr>\n",
       "      <th>B</th>\n",
       "      <td>74863.0</td>\n",
       "      <td>NaN</td>\n",
       "    </tr>\n",
       "    <tr>\n",
       "      <th>C</th>\n",
       "      <td>NaN</td>\n",
       "      <td>77256.0</td>\n",
       "    </tr>\n",
       "    <tr>\n",
       "      <th>D</th>\n",
       "      <td>84022.0</td>\n",
       "      <td>NaN</td>\n",
       "    </tr>\n",
       "    <tr>\n",
       "      <th>E</th>\n",
       "      <td>NaN</td>\n",
       "      <td>41907.0</td>\n",
       "    </tr>\n",
       "    <tr>\n",
       "      <th>F</th>\n",
       "      <td>86198.0</td>\n",
       "      <td>NaN</td>\n",
       "    </tr>\n",
       "    <tr>\n",
       "      <th>G</th>\n",
       "      <td>NaN</td>\n",
       "      <td>89841.0</td>\n",
       "    </tr>\n",
       "    <tr>\n",
       "      <th>H</th>\n",
       "      <td>48630.0</td>\n",
       "      <td>NaN</td>\n",
       "    </tr>\n",
       "    <tr>\n",
       "      <th>I</th>\n",
       "      <td>NaN</td>\n",
       "      <td>22617.0</td>\n",
       "    </tr>\n",
       "    <tr>\n",
       "      <th>J</th>\n",
       "      <td>19021.0</td>\n",
       "      <td>NaN</td>\n",
       "    </tr>\n",
       "  </tbody>\n",
       "</table>\n",
       "</div>"
      ],
      "text/plain": [
       "sex         F        M\n",
       "name                  \n",
       "A         NaN  38960.0\n",
       "B     74863.0      NaN\n",
       "C         NaN  77256.0\n",
       "D     84022.0      NaN\n",
       "E         NaN  41907.0\n",
       "F     86198.0      NaN\n",
       "G         NaN  89841.0\n",
       "H     48630.0      NaN\n",
       "I         NaN  22617.0\n",
       "J     19021.0      NaN"
      ]
     },
     "execution_count": 112,
     "metadata": {},
     "output_type": "execute_result"
    }
   ],
   "source": [
    "df.pivot(index='name', columns='sex', values='earning')"
   ]
  }
 ],
 "metadata": {
  "anaconda-cloud": {},
  "kernelspec": {
   "display_name": "Python 3",
   "language": "python",
   "name": "python3"
  },
  "language_info": {
   "codemirror_mode": {
    "name": "ipython",
    "version": 3
   },
   "file_extension": ".py",
   "mimetype": "text/x-python",
   "name": "python",
   "nbconvert_exporter": "python",
   "pygments_lexer": "ipython3",
   "version": "3.5.2"
  }
 },
 "nbformat": 4,
 "nbformat_minor": 1
}
